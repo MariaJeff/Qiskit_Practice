{
 "cells": [
  {
   "cell_type": "code",
   "execution_count": 1,
   "id": "a5213516",
   "metadata": {},
   "outputs": [],
   "source": [
    "from qiskit import QuantumCircuit"
   ]
  },
  {
   "cell_type": "code",
   "execution_count": 2,
   "id": "d38dba4c",
   "metadata": {},
   "outputs": [],
   "source": [
    "qc = QuantumCircuit(1,1)"
   ]
  },
  {
   "cell_type": "code",
   "execution_count": 4,
   "id": "38a6cf3f",
   "metadata": {},
   "outputs": [
    {
     "data": {
      "text/plain": [
       "<qiskit.circuit.instructionset.InstructionSet at 0x7fa723bed250>"
      ]
     },
     "execution_count": 4,
     "metadata": {},
     "output_type": "execute_result"
    }
   ],
   "source": [
    "qc.h(0)"
   ]
  },
  {
   "cell_type": "code",
   "execution_count": 5,
   "id": "ae3b04d9",
   "metadata": {},
   "outputs": [
    {
     "data": {
      "image/png": "[encoded data removed]",
      "text/plain": [
       "<Figure size 133.526x144.48 with 1 Axes>"
      ]
     },
     "execution_count": 5,
     "metadata": {},
     "output_type": "execute_result"
    }
   ],
   "source": [
    "qc.draw(output = 'mpl')"
   ]
  },
  {
   "cell_type": "code",
   "execution_count": 7,
   "id": "fe1282d8",
   "metadata": {},
   "outputs": [
    {
     "data": {
      "text/plain": [
       "<qiskit.circuit.instructionset.InstructionSet at 0x7fa723beda00>"
      ]
     },
     "execution_count": 7,
     "metadata": {},
     "output_type": "execute_result"
    }
   ],
   "source": [
    "qc.measure([0], [0])"
   ]
  },
  {
   "cell_type": "code",
   "execution_count": 8,
   "id": "5c0dafb2",
   "metadata": {},
   "outputs": [
    {
     "data": {
      "image/png": "[encoded data removed]",
      "text/plain": [
       "<Figure size 193.726x144.48 with 1 Axes>"
      ]
     },
     "execution_count": 8,
     "metadata": {},
     "output_type": "execute_result"
    }
   ],
   "source": [
    "qc.draw(output = 'mpl')"
   ]
  },
  {
   "cell_type": "code",
   "execution_count": 12,
   "id": "70f6c3ec",
   "metadata": {},
   "outputs": [],
   "source": [
    "from qiskit import BasicAer, execute"
   ]
  },
  {
   "cell_type": "code",
   "execution_count": 39,
   "id": "ab9032b8",
   "metadata": {},
   "outputs": [],
   "source": [
    "backend = BasicAer.get_backend('qasm_simulator')"
   ]
  },
  {
   "cell_type": "code",
   "execution_count": 38,
   "id": "67be623b",
   "metadata": {},
   "outputs": [],
   "source": [
    "job = execute(qc, backend, shots=5, memory=True)"
   ]
  },
  {
   "cell_type": "code",
   "execution_count": 37,
   "id": "ff07344d",
   "metadata": {},
   "outputs": [],
   "source": [
    "result = job.result().get_memory()"
   ]
  },
  {
   "cell_type": "code",
   "execution_count": 45,
   "id": "c1ad0647",
   "metadata": {},
   "outputs": [
    {
     "name": "stdout",
     "output_type": "stream",
     "text": [
      "['1', '1', '0', '0', '0']\n",
      "TAILS\n",
      "TAILS\n",
      "HEADS\n",
      "HEADS\n",
      "HEADS\n"
     ]
    }
   ],
   "source": [
    "print(result)\n",
    "for output in result:\n",
    "    if output == '0':\n",
    "        print('HEADS')\n",
    "    else: \n",
    "        print('TAILS')"
   ]
  },
  {
   "cell_type": "code",
   "execution_count": 31,
   "id": "78cdbd9e",
   "metadata": {},
   "outputs": [],
   "source": [
    "bit_counts = job.result().get_counts()"
   ]
  },
  {
   "cell_type": "code",
   "execution_count": 32,
   "id": "3c9bfa73",
   "metadata": {},
   "outputs": [],
   "source": [
    "int_counts = {}"
   ]
  },
  {
   "cell_type": "code",
   "execution_count": 33,
   "id": "c1f4e759",
   "metadata": {},
   "outputs": [],
   "source": [
    "for bitstring in bit_counts:\n",
    "    int_counts[ int(bitstring,2) ] = bit_counts[bitstring]"
   ]
  },
  {
   "cell_type": "code",
   "execution_count": 34,
   "id": "d29a93e5",
   "metadata": {},
   "outputs": [],
   "source": [
    "from qiskit.tools.visualization import plot_histogram"
   ]
  },
  {
   "cell_type": "code",
   "execution_count": 40,
   "id": "ba63a88d",
   "metadata": {},
   "outputs": [
    {
     "data": {
      "image/png": "[encoded data removed]",
      "text/plain": [
       "<Figure size 504x360 with 1 Axes>"
      ]
     },
     "execution_count": 40,
     "metadata": {},
     "output_type": "execute_result"
    }
   ],
   "source": [
    "plot_histogram(int_counts)"
   ]
  },
  {
   "cell_type": "code",
   "execution_count": null,
   "id": "72235076",
   "metadata": {},
   "outputs": [],
   "source": []
  }
 ],
 "metadata": {
  "kernelspec": {
   "display_name": "Python 3 (ipykernel)",
   "language": "python",
   "name": "python3"
  },
  "language_info": {
   "codemirror_mode": {
    "name": "ipython",
    "version": 3
   },
   "file_extension": ".py",
   "mimetype": "text/x-python",
   "name": "python",
   "nbconvert_exporter": "python",
   "pygments_lexer": "ipython3",
   "version": "3.9.7"
  }
 },
 "nbformat": 4,
 "nbformat_minor": 5
}
